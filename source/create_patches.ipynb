{
 "cells": [
  {
   "cell_type": "code",
   "execution_count": 1,
   "metadata": {
    "id": "LmeSIk59CnwQ"
   },
   "outputs": [],
   "source": [
    "import os\n",
    "import csv\n",
    "import shutil\n",
    "\n",
    "import numpy as np\n",
    "import pandas as pd\n",
    "import matplotlib.pyplot as plt\n",
    "\n",
    "from tqdm import tqdm\n",
    "\n",
    "import cv2"
   ]
  },
  {
   "cell_type": "code",
   "execution_count": 2,
   "metadata": {
    "colab": {
     "base_uri": "https://localhost:8080/",
     "height": 423
    },
    "executionInfo": {
     "elapsed": 748,
     "status": "ok",
     "timestamp": 1674049684561,
     "user": {
      "displayName": "Carlo Sgorlon Gaiatto",
      "userId": "04607051536765363290"
     },
     "user_tz": -60
    },
    "id": "SJWPk921MY8e",
    "outputId": "20a8485c-eb11-4471-ff96-82e3d23ad542"
   },
   "outputs": [
    {
     "data": {
      "text/html": [
       "<div>\n",
       "<style scoped>\n",
       "    .dataframe tbody tr th:only-of-type {\n",
       "        vertical-align: middle;\n",
       "    }\n",
       "\n",
       "    .dataframe tbody tr th {\n",
       "        vertical-align: top;\n",
       "    }\n",
       "\n",
       "    .dataframe thead th {\n",
       "        text-align: right;\n",
       "    }\n",
       "</style>\n",
       "<table border=\"1\" class=\"dataframe\">\n",
       "  <thead>\n",
       "    <tr style=\"text-align: right;\">\n",
       "      <th></th>\n",
       "      <th>image_id</th>\n",
       "      <th>split</th>\n",
       "      <th>sat_image_path</th>\n",
       "      <th>mask_path</th>\n",
       "    </tr>\n",
       "  </thead>\n",
       "  <tbody>\n",
       "    <tr>\n",
       "      <th>0</th>\n",
       "      <td>100694</td>\n",
       "      <td>train</td>\n",
       "      <td>train/100694_sat.jpg</td>\n",
       "      <td>train/100694_mask.png</td>\n",
       "    </tr>\n",
       "    <tr>\n",
       "      <th>1</th>\n",
       "      <td>102122</td>\n",
       "      <td>train</td>\n",
       "      <td>train/102122_sat.jpg</td>\n",
       "      <td>train/102122_mask.png</td>\n",
       "    </tr>\n",
       "    <tr>\n",
       "      <th>2</th>\n",
       "      <td>10233</td>\n",
       "      <td>train</td>\n",
       "      <td>train/10233_sat.jpg</td>\n",
       "      <td>train/10233_mask.png</td>\n",
       "    </tr>\n",
       "    <tr>\n",
       "      <th>3</th>\n",
       "      <td>103665</td>\n",
       "      <td>train</td>\n",
       "      <td>train/103665_sat.jpg</td>\n",
       "      <td>train/103665_mask.png</td>\n",
       "    </tr>\n",
       "    <tr>\n",
       "      <th>4</th>\n",
       "      <td>103730</td>\n",
       "      <td>train</td>\n",
       "      <td>train/103730_sat.jpg</td>\n",
       "      <td>train/103730_mask.png</td>\n",
       "    </tr>\n",
       "    <tr>\n",
       "      <th>...</th>\n",
       "      <td>...</td>\n",
       "      <td>...</td>\n",
       "      <td>...</td>\n",
       "      <td>...</td>\n",
       "    </tr>\n",
       "    <tr>\n",
       "      <th>1141</th>\n",
       "      <td>979233</td>\n",
       "      <td>test</td>\n",
       "      <td>test/979233_sat.jpg</td>\n",
       "      <td>NaN</td>\n",
       "    </tr>\n",
       "    <tr>\n",
       "      <th>1142</th>\n",
       "      <td>983689</td>\n",
       "      <td>test</td>\n",
       "      <td>test/983689_sat.jpg</td>\n",
       "      <td>NaN</td>\n",
       "    </tr>\n",
       "    <tr>\n",
       "      <th>1143</th>\n",
       "      <td>988205</td>\n",
       "      <td>test</td>\n",
       "      <td>test/988205_sat.jpg</td>\n",
       "      <td>NaN</td>\n",
       "    </tr>\n",
       "    <tr>\n",
       "      <th>1144</th>\n",
       "      <td>989953</td>\n",
       "      <td>test</td>\n",
       "      <td>test/989953_sat.jpg</td>\n",
       "      <td>NaN</td>\n",
       "    </tr>\n",
       "    <tr>\n",
       "      <th>1145</th>\n",
       "      <td>999380</td>\n",
       "      <td>test</td>\n",
       "      <td>test/999380_sat.jpg</td>\n",
       "      <td>NaN</td>\n",
       "    </tr>\n",
       "  </tbody>\n",
       "</table>\n",
       "<p>1146 rows × 4 columns</p>\n",
       "</div>"
      ],
      "text/plain": [
       "      image_id  split        sat_image_path              mask_path\n",
       "0       100694  train  train/100694_sat.jpg  train/100694_mask.png\n",
       "1       102122  train  train/102122_sat.jpg  train/102122_mask.png\n",
       "2        10233  train   train/10233_sat.jpg   train/10233_mask.png\n",
       "3       103665  train  train/103665_sat.jpg  train/103665_mask.png\n",
       "4       103730  train  train/103730_sat.jpg  train/103730_mask.png\n",
       "...        ...    ...                   ...                    ...\n",
       "1141    979233   test   test/979233_sat.jpg                    NaN\n",
       "1142    983689   test   test/983689_sat.jpg                    NaN\n",
       "1143    988205   test   test/988205_sat.jpg                    NaN\n",
       "1144    989953   test   test/989953_sat.jpg                    NaN\n",
       "1145    999380   test   test/999380_sat.jpg                    NaN\n",
       "\n",
       "[1146 rows x 4 columns]"
      ]
     },
     "execution_count": 2,
     "metadata": {},
     "output_type": "execute_result"
    }
   ],
   "source": [
    "DATA_PATH = \"./data\"\n",
    "metadata_df = pd.read_csv(os.path.join(DATA_PATH, \"metadata.csv\"))\n",
    "\n",
    "metadata_df"
   ]
  },
  {
   "cell_type": "code",
   "execution_count": 20,
   "metadata": {
    "colab": {
     "base_uri": "https://localhost:8080/",
     "height": 206
    },
    "executionInfo": {
     "elapsed": 25,
     "status": "ok",
     "timestamp": 1674049684828,
     "user": {
      "displayName": "Carlo Sgorlon Gaiatto",
      "userId": "04607051536765363290"
     },
     "user_tz": -60
    },
    "id": "fTboQ_FaMY8i",
    "outputId": "97447368-5775-46e7-c032-9da96053d681"
   },
   "outputs": [
    {
     "data": {
      "text/html": [
       "<div>\n",
       "<style scoped>\n",
       "    .dataframe tbody tr th:only-of-type {\n",
       "        vertical-align: middle;\n",
       "    }\n",
       "\n",
       "    .dataframe tbody tr th {\n",
       "        vertical-align: top;\n",
       "    }\n",
       "\n",
       "    .dataframe thead th {\n",
       "        text-align: right;\n",
       "    }\n",
       "</style>\n",
       "<table border=\"1\" class=\"dataframe\">\n",
       "  <thead>\n",
       "    <tr style=\"text-align: right;\">\n",
       "      <th></th>\n",
       "      <th>image_id</th>\n",
       "      <th>sat_image_path</th>\n",
       "      <th>mask_path</th>\n",
       "    </tr>\n",
       "  </thead>\n",
       "  <tbody>\n",
       "    <tr>\n",
       "      <th>0</th>\n",
       "      <td>100694</td>\n",
       "      <td>./data/train/100694_sat.jpg</td>\n",
       "      <td>./data/train/100694_mask.png</td>\n",
       "    </tr>\n",
       "    <tr>\n",
       "      <th>1</th>\n",
       "      <td>102122</td>\n",
       "      <td>./data/train/102122_sat.jpg</td>\n",
       "      <td>./data/train/102122_mask.png</td>\n",
       "    </tr>\n",
       "    <tr>\n",
       "      <th>2</th>\n",
       "      <td>10233</td>\n",
       "      <td>./data/train/10233_sat.jpg</td>\n",
       "      <td>./data/train/10233_mask.png</td>\n",
       "    </tr>\n",
       "    <tr>\n",
       "      <th>3</th>\n",
       "      <td>103665</td>\n",
       "      <td>./data/train/103665_sat.jpg</td>\n",
       "      <td>./data/train/103665_mask.png</td>\n",
       "    </tr>\n",
       "    <tr>\n",
       "      <th>4</th>\n",
       "      <td>103730</td>\n",
       "      <td>./data/train/103730_sat.jpg</td>\n",
       "      <td>./data/train/103730_mask.png</td>\n",
       "    </tr>\n",
       "  </tbody>\n",
       "</table>\n",
       "</div>"
      ],
      "text/plain": [
       "   image_id               sat_image_path                     mask_path\n",
       "0    100694  ./data/train/100694_sat.jpg  ./data/train/100694_mask.png\n",
       "1    102122  ./data/train/102122_sat.jpg  ./data/train/102122_mask.png\n",
       "2     10233   ./data/train/10233_sat.jpg   ./data/train/10233_mask.png\n",
       "3    103665  ./data/train/103665_sat.jpg  ./data/train/103665_mask.png\n",
       "4    103730  ./data/train/103730_sat.jpg  ./data/train/103730_mask.png"
      ]
     },
     "execution_count": 20,
     "metadata": {},
     "output_type": "execute_result"
    }
   ],
   "source": [
    "# select only images with masks\n",
    "metadata_df = metadata_df[metadata_df[\"split\"]==\"train\"]\n",
    "# drop \"split\" column\n",
    "metadata_df = metadata_df[[\"image_id\", \"sat_image_path\", \"mask_path\"]]\n",
    "# modify the path of images and masks\n",
    "metadata_df[\"sat_image_path\"] = metadata_df[\"sat_image_path\"].apply(lambda img_pth: os.path.join(DATA_PATH, img_pth))\n",
    "metadata_df[\"mask_path\"] = metadata_df[\"mask_path\"].apply(lambda mask_pth: os.path.join(DATA_PATH, mask_pth))\n",
    "\n",
    "metadata_df.head()"
   ]
  },
  {
   "cell_type": "code",
   "execution_count": 29,
   "metadata": {},
   "outputs": [
    {
     "name": "stdout",
     "output_type": "stream",
     "text": [
      "train: 642\n",
      "valid: 80\n",
      "test: 81\n"
     ]
    }
   ],
   "source": [
    "metadata_df_shuffled = metadata_df.sample(frac = 1, random_state = 0).reset_index(drop = True)\n",
    "\n",
    "train_df, valid_df, test_df = np.split(metadata_df_shuffled, [int(0.8*len(metadata_df_shuffled)), int(0.9*len(metadata_df_shuffled))])\n",
    "\n",
    "print(\"train:\", len(train_df))\n",
    "print(\"valid:\", len(valid_df))\n",
    "print(\"test:\", len(test_df))"
   ]
  },
  {
   "cell_type": "code",
   "execution_count": 30,
   "metadata": {},
   "outputs": [
    {
     "data": {
      "text/html": [
       "<div>\n",
       "<style scoped>\n",
       "    .dataframe tbody tr th:only-of-type {\n",
       "        vertical-align: middle;\n",
       "    }\n",
       "\n",
       "    .dataframe tbody tr th {\n",
       "        vertical-align: top;\n",
       "    }\n",
       "\n",
       "    .dataframe thead th {\n",
       "        text-align: right;\n",
       "    }\n",
       "</style>\n",
       "<table border=\"1\" class=\"dataframe\">\n",
       "  <thead>\n",
       "    <tr style=\"text-align: right;\">\n",
       "      <th></th>\n",
       "      <th>image_id</th>\n",
       "      <th>sat_image_path</th>\n",
       "      <th>mask_path</th>\n",
       "    </tr>\n",
       "  </thead>\n",
       "  <tbody>\n",
       "    <tr>\n",
       "      <th>0</th>\n",
       "      <td>111335</td>\n",
       "      <td>./data/train/111335_sat.jpg</td>\n",
       "      <td>./data/train/111335_mask.png</td>\n",
       "    </tr>\n",
       "    <tr>\n",
       "      <th>1</th>\n",
       "      <td>727832</td>\n",
       "      <td>./data/train/727832_sat.jpg</td>\n",
       "      <td>./data/train/727832_mask.png</td>\n",
       "    </tr>\n",
       "    <tr>\n",
       "      <th>2</th>\n",
       "      <td>77669</td>\n",
       "      <td>./data/train/77669_sat.jpg</td>\n",
       "      <td>./data/train/77669_mask.png</td>\n",
       "    </tr>\n",
       "    <tr>\n",
       "      <th>3</th>\n",
       "      <td>263576</td>\n",
       "      <td>./data/train/263576_sat.jpg</td>\n",
       "      <td>./data/train/263576_mask.png</td>\n",
       "    </tr>\n",
       "    <tr>\n",
       "      <th>4</th>\n",
       "      <td>351228</td>\n",
       "      <td>./data/train/351228_sat.jpg</td>\n",
       "      <td>./data/train/351228_mask.png</td>\n",
       "    </tr>\n",
       "  </tbody>\n",
       "</table>\n",
       "</div>"
      ],
      "text/plain": [
       "   image_id               sat_image_path                     mask_path\n",
       "0    111335  ./data/train/111335_sat.jpg  ./data/train/111335_mask.png\n",
       "1    727832  ./data/train/727832_sat.jpg  ./data/train/727832_mask.png\n",
       "2     77669   ./data/train/77669_sat.jpg   ./data/train/77669_mask.png\n",
       "3    263576  ./data/train/263576_sat.jpg  ./data/train/263576_mask.png\n",
       "4    351228  ./data/train/351228_sat.jpg  ./data/train/351228_mask.png"
      ]
     },
     "execution_count": 30,
     "metadata": {},
     "output_type": "execute_result"
    }
   ],
   "source": [
    "train_df.head()"
   ]
  },
  {
   "cell_type": "code",
   "execution_count": 26,
   "metadata": {
    "colab": {
     "base_uri": "https://localhost:8080/"
    },
    "executionInfo": {
     "elapsed": 82610,
     "status": "ok",
     "timestamp": 1674049767415,
     "user": {
      "displayName": "Carlo Sgorlon Gaiatto",
      "userId": "04607051536765363290"
     },
     "user_tz": -60
    },
    "id": "ulG7eCapG1Q_",
    "outputId": "08338c9c-ca9c-4e59-960d-87f005c20f08"
   },
   "outputs": [
    {
     "name": "stdout",
     "output_type": "stream",
     "text": [
      "Directory './data/train_patches' removed\n",
      "Directory './data/train_patches' created\n",
      "Directory './data/valid_patches' removed\n",
      "Directory './data/valid_patches' created\n",
      "Directory './data/test_patches' removed\n",
      "Directory './data/test_patches' created\n"
     ]
    }
   ],
   "source": [
    "for dir_name in [\"train_patches\", \"valid_patches\", \"test_patches\"]:\n",
    "    \n",
    "    DIR_PATH = os.path.join(DATA_PATH, dir_name)\n",
    "\n",
    "    if os.path.isdir(DIR_PATH):\n",
    "        # remove directory\n",
    "        shutil.rmtree(DIR_PATH)\n",
    "        print(\"Directory '{}' removed\".format(DIR_PATH))\n",
    "\n",
    "    if not os.path.isdir(DIR_PATH):\n",
    "        # create directory\n",
    "        os.mkdir(DIR_PATH)\n",
    "        print(\"Directory '{}' created\".format(DIR_PATH))"
   ]
  },
  {
   "cell_type": "code",
   "execution_count": 27,
   "metadata": {
    "colab": {
     "base_uri": "https://localhost:8080/"
    },
    "executionInfo": {
     "elapsed": 295,
     "status": "ok",
     "timestamp": 1674049769542,
     "user": {
      "displayName": "Carlo Sgorlon Gaiatto",
      "userId": "04607051536765363290"
     },
     "user_tz": -60
    },
    "id": "v7f_iVBEKnfC",
    "outputId": "a3525abf-e2dd-40e1-926f-4be64dd7fe65"
   },
   "outputs": [
    {
     "name": "stdout",
     "output_type": "stream",
     "text": [
      "File ./data/train_metadata_patches.csv created\n",
      "File ./data/valid_metadata_patches.csv created\n",
      "File ./data/test_metadata_patches.csv created\n"
     ]
    }
   ],
   "source": [
    "for file_name in [\"train\", \"valid\", \"test\"]:\n",
    "    \n",
    "    METADATA_PATCHES_PATH = os.path.join(DATA_PATH, file_name + \"_metadata_patches.csv\")\n",
    "\n",
    "    if os.path.exists(METADATA_PATCHES_PATH):\n",
    "        # remove file\n",
    "        os.remove(METADATA_PATCHES_PATH)\n",
    "        print(\"File {} removed\".format(METADATA_PATCHES_PATH))\n",
    "\n",
    "    # create file with header\n",
    "    with open(METADATA_PATCHES_PATH, \"w\", newline = \"\") as f:\n",
    "        writer = csv.writer(f)\n",
    "        writer.writerow([\"image_id\", \"sat_image_path\", \"mask_path\"])\n",
    "        print(\"File {} created\".format(METADATA_PATCHES_PATH))"
   ]
  },
  {
   "cell_type": "code",
   "execution_count": 31,
   "metadata": {
    "id": "rIrhG-euQiZi"
   },
   "outputs": [],
   "source": [
    "# patches settings\n",
    "original_size = 2448\n",
    "scale = [1.25, 1, 0.75, 0.5]\n",
    "patch_size = 224\n",
    "stride = 224\n",
    "\n",
    "patch_idx = {}\n",
    "for s in scale:\n",
    "    patch_idx[s] =  [stride*i for i in range(int(int(original_size*s)/stride))]"
   ]
  },
  {
   "cell_type": "code",
   "execution_count": 32,
   "metadata": {
    "colab": {
     "base_uri": "https://localhost:8080/"
    },
    "executionInfo": {
     "elapsed": 6,
     "status": "ok",
     "timestamp": 1674049772349,
     "user": {
      "displayName": "Carlo Sgorlon Gaiatto",
      "userId": "04607051536765363290"
     },
     "user_tz": -60
    },
    "id": "XbiF2w0Sc8Ki",
    "outputId": "caeabd4c-54b8-4e19-a11e-d4167a32f64e"
   },
   "outputs": [
    {
     "name": "stdout",
     "output_type": "stream",
     "text": [
      "-------------------------------------\n",
      "Patches information along 1 dimension\n",
      "-------------------------------------\n",
      "\n",
      "scale:   patch indexes:                                                                       discarded pixels:  number of patches: \n",
      "\n",
      "1.25     [0, 224, 448, 672, 896, 1120, 1344, 1568, 1792, 2016, 2240, 2464, 2688]              148                13        \n",
      "1        [0, 224, 448, 672, 896, 1120, 1344, 1568, 1792, 2016]                                208                10        \n",
      "0.75     [0, 224, 448, 672, 896, 1120, 1344, 1568]                                            44                 8         \n",
      "0.5      [0, 224, 448, 672, 896]                                                              104                5         \n"
     ]
    }
   ],
   "source": [
    "print(\"-------------------------------------\")\n",
    "print(\"Patches information along 1 dimension\")\n",
    "print(\"-------------------------------------\\n\")\n",
    "\n",
    "format_spec = \"{:<8} {:<84} {:<18} {:<10}\"\n",
    "print(format_spec.format(\"scale:\", \"patch indexes:\", \"discarded pixels:\", \"number of patches:\"), \"\\n\")\n",
    "\n",
    "for key, value in patch_idx.items():\n",
    "    discarded_pixels = int(original_size*key) - (value[-1] + patch_size)\n",
    "    print(format_spec.format(str(key), str(value), str(discarded_pixels), str(len(value))))"
   ]
  },
  {
   "cell_type": "code",
   "execution_count": 33,
   "metadata": {
    "id": "Dxv3zF9cQiQA"
   },
   "outputs": [],
   "source": [
    "def create_patches(metadata, scale, dir_name, METADATA_PATCHES_PATH):\n",
    "\n",
    "    id = metadata[0]\n",
    "    image_path = metadata[1]\n",
    "    mask_path = metadata[2]\n",
    "\n",
    "    image = cv2.cvtColor(cv2.imread(image_path), cv2.COLOR_BGR2RGB)\n",
    "    mask = cv2.cvtColor(cv2.imread(mask_path), cv2.COLOR_BGR2RGB)\n",
    "\n",
    "    if image.shape[0] != original_size:\n",
    "        raise ValueError(\"The image size should be \" + str(original_size))\n",
    "\n",
    "    for s in scale:\n",
    "\n",
    "        # resize image and mask\n",
    "        scaled_size = int(image.shape[0]*s)\n",
    "        scaled_image = cv2.resize(image, (scaled_size, scaled_size))\n",
    "        scaled_mask = cv2.resize(mask, (scaled_size, scaled_size))\n",
    "\n",
    "        if scaled_image.shape[0] < patch_idx[s][-1] + patch_size:\n",
    "            raise ValueError(\"The scaled image should contain all the patches\")\n",
    "\n",
    "        for i in patch_idx[s]:\n",
    "            for j in patch_idx[s]:\n",
    "\n",
    "                # get patches\n",
    "                scaled_image_patch = scaled_image[i:i+patch_size, j:j+patch_size, :]\n",
    "                scaled_mask_patch = scaled_mask[i:i+patch_size, j:j+patch_size, :]\n",
    "\n",
    "                # create paths\n",
    "                scaled_image_patch_path = dir_name + \"/{}_sat_{}_{}_{}.jpg\".format(str(id), str(int(s*100)), str(i), str(j))\n",
    "                scaled_mask_patch_path = dir_name + \"/{}_mask_{}_{}_{}.png\".format(str(id), str(int(s*100)), str(i), str(j))\n",
    "\n",
    "                # save patches\n",
    "                cv2.imwrite(os.path.join(DATA_PATH, scaled_image_patch_path), scaled_image_patch)\n",
    "                cv2.imwrite(os.path.join(DATA_PATH, scaled_mask_patch_path), scaled_mask_patch)\n",
    "\n",
    "                # update the metadata of patches\n",
    "                with open(METADATA_PATCHES_PATH, \"a\", newline = \"\") as f:\n",
    "                    writer = csv.writer(f)\n",
    "                    writer.writerow([id, scaled_image_patch_path, scaled_mask_patch_path])"
   ]
  },
  {
   "cell_type": "code",
   "execution_count": 34,
   "metadata": {
    "colab": {
     "base_uri": "https://localhost:8080/"
    },
    "executionInfo": {
     "elapsed": 123551,
     "status": "ok",
     "timestamp": 1674049901500,
     "user": {
      "displayName": "Carlo Sgorlon Gaiatto",
      "userId": "04607051536765363290"
     },
     "user_tz": -60
    },
    "id": "SS1HqF3LiSG7",
    "outputId": "0358ccaf-e15a-47e4-ab14-bee060f850f3"
   },
   "outputs": [
    {
     "name": "stderr",
     "output_type": "stream",
     "text": [
      "100%|██████████| 642/642 [12:24<00:00,  1.16s/it]\n"
     ]
    }
   ],
   "source": [
    "# create train patches\n",
    "for sample in tqdm(train_df[[\"image_id\", \"sat_image_path\",\"mask_path\"]].values.tolist()):\n",
    "    create_patches(sample, scale, 'train_patches', './data/train_metadata_patches.csv')"
   ]
  },
  {
   "cell_type": "code",
   "execution_count": 35,
   "metadata": {},
   "outputs": [
    {
     "name": "stderr",
     "output_type": "stream",
     "text": [
      "100%|██████████| 80/80 [00:35<00:00,  2.28it/s]\n"
     ]
    }
   ],
   "source": [
    "# create valid patches\n",
    "for sample in tqdm(valid_df[[\"image_id\", \"sat_image_path\",\"mask_path\"]].values.tolist()):\n",
    "    create_patches(sample, [1], 'valid_patches', './data/valid_metadata_patches.csv')"
   ]
  },
  {
   "cell_type": "code",
   "execution_count": 36,
   "metadata": {},
   "outputs": [
    {
     "name": "stderr",
     "output_type": "stream",
     "text": [
      "100%|██████████| 81/81 [00:36<00:00,  2.24it/s]\n"
     ]
    }
   ],
   "source": [
    "# create test patches\n",
    "for sample in tqdm(test_df[[\"image_id\", \"sat_image_path\",\"mask_path\"]].values.tolist()):\n",
    "    create_patches(sample, [1], 'test_patches', './data/test_metadata_patches.csv')"
   ]
  },
  {
   "cell_type": "code",
   "execution_count": null,
   "metadata": {},
   "outputs": [],
   "source": []
  }
 ],
 "metadata": {
  "colab": {
   "provenance": []
  },
  "environment": {
   "kernel": "python3",
   "name": "pytorch-gpu.1-13.m102",
   "type": "gcloud",
   "uri": "gcr.io/deeplearning-platform-release/pytorch-gpu.1-13:m102"
  },
  "gpuClass": "standard",
  "kernelspec": {
   "display_name": "Python 3 (ipykernel)",
   "language": "python",
   "name": "python3"
  },
  "language_info": {
   "codemirror_mode": {
    "name": "ipython",
    "version": 3
   },
   "file_extension": ".py",
   "mimetype": "text/x-python",
   "name": "python",
   "nbconvert_exporter": "python",
   "pygments_lexer": "ipython3",
   "version": "3.7.12"
  }
 },
 "nbformat": 4,
 "nbformat_minor": 4
}
