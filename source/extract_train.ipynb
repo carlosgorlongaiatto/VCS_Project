{
 "cells": [
  {
   "cell_type": "code",
   "execution_count": 2,
   "id": "3fb789df-56c8-46af-80f1-0d2f16373553",
   "metadata": {},
   "outputs": [],
   "source": [
    "import os\n",
    "import shutil\n",
    "import zipfile"
   ]
  },
  {
   "cell_type": "code",
   "execution_count": 3,
   "id": "cfc384ac-a746-4af3-8bb1-c4ee59ee4c2f",
   "metadata": {},
   "outputs": [
    {
     "name": "stdout",
     "output_type": "stream",
     "text": [
      "/home/jupyter/VCS_Project\n"
     ]
    }
   ],
   "source": [
    "!pwd"
   ]
  },
  {
   "cell_type": "code",
   "execution_count": 17,
   "id": "11c65156-b4ef-4870-ac6f-9c50bfb04edf",
   "metadata": {},
   "outputs": [],
   "source": [
    "ZIP_PATH = \"./data/train.zip\"\n",
    "TRAIN_PATH = \"./data\""
   ]
  },
  {
   "cell_type": "code",
   "execution_count": 18,
   "id": "9b63285e-b61f-48db-852a-cbb6382b13f3",
   "metadata": {},
   "outputs": [],
   "source": [
    "with zipfile.ZipFile(ZIP_PATH, \"r\") as zip_ref:\n",
    "    zip_ref.extractall(TRAIN_PATH)"
   ]
  },
  {
   "cell_type": "code",
   "execution_count": null,
   "id": "9dec4852-5782-47d0-b948-6ddfbc490734",
   "metadata": {},
   "outputs": [],
   "source": []
  }
 ],
 "metadata": {
  "environment": {
   "kernel": "python3",
   "name": "pytorch-gpu.1-13.m102",
   "type": "gcloud",
   "uri": "gcr.io/deeplearning-platform-release/pytorch-gpu.1-13:m102"
  },
  "kernelspec": {
   "display_name": "Python 3 (ipykernel)",
   "language": "python",
   "name": "python3"
  },
  "language_info": {
   "codemirror_mode": {
    "name": "ipython",
    "version": 3
   },
   "file_extension": ".py",
   "mimetype": "text/x-python",
   "name": "python",
   "nbconvert_exporter": "python",
   "pygments_lexer": "ipython3",
   "version": "3.7.12"
  }
 },
 "nbformat": 4,
 "nbformat_minor": 5
}
